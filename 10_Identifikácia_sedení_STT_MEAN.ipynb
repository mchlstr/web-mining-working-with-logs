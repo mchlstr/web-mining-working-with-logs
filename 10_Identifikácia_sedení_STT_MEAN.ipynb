{
 "cells": [
  {
   "cell_type": "markdown",
   "id": "c2fd2286",
   "metadata": {},
   "source": [
    "#### Zadanie\n",
    "Identifikujte sedenia na základe priemerného odhadu časového okna (STT_MEAN).\n",
    "\n",
    "\n",
    "Odovzdajte zdrojový kód programu + logovací súbor doplnený o identifikáciu používateľov (v jednom zip).\n",
    "\n",
    "Príkazy v Pythone vhodné pre riešenie tohto zadania:\n",
    "\n",
    "`\n",
    "import pandas as pd\n",
    "pd.read_csv() - načítanie log súboru\n",
    "`\n"
   ]
  },
  {
   "cell_type": "code",
   "execution_count": 1,
   "id": "2f9f9afc",
   "metadata": {},
   "outputs": [],
   "source": [
    "import pandas as pd\n",
    "import numpy as np"
   ]
  },
  {
   "cell_type": "code",
   "execution_count": 2,
   "id": "f06b9492",
   "metadata": {},
   "outputs": [
    {
     "name": "stderr",
     "output_type": "stream",
     "text": [
      "C:\\ProgramData\\Anaconda3\\lib\\site-packages\\IPython\\core\\interactiveshell.py:3165: DtypeWarning: Columns (4) have mixed types.Specify dtype option on import or set low_memory=False.\n",
      "  has_raised = await self.run_ast_nodes(code_ast.body, cell_name,\n"
     ]
    }
   ],
   "source": [
    "# opening the file we will be working with and assigning it to the variabel file for latter use\n",
    "file = pd.read_csv(\"8_Identifikácia_sedení_RLength.csv\",  encoding=\"utf-8\",  escapechar=\";\", index_col=False)"
   ]
  },
  {
   "cell_type": "code",
   "execution_count": 3,
   "id": "b335deb4",
   "metadata": {},
   "outputs": [],
   "source": [
    "# calculating the mean of the time spent on the webpages from the pages where value is different than None\n",
    "# tried and it gives here the same result as np.nanmean, despite it sais that np.nanmean ignores the NaN, while mean keep them\n",
    "mean = np.mean(file[\"Length\"])"
   ]
  },
  {
   "cell_type": "code",
   "execution_count": 4,
   "id": "5c5e3200",
   "metadata": {},
   "outputs": [
    {
     "data": {
      "text/plain": [
       "69.07541690865345"
      ]
     },
     "execution_count": 4,
     "metadata": {},
     "output_type": "execute_result"
    }
   ],
   "source": [
    "mean"
   ]
  },
  {
   "cell_type": "code",
   "execution_count": 5,
   "id": "aabdaeec",
   "metadata": {},
   "outputs": [],
   "source": [
    "# initializing the empty array for STT id numbers\n",
    "# initializing the temp var STT_id to store temp ID numbers of the STT_mean position index\n",
    "STT = []\n",
    "STT_id = 0\n",
    "\n",
    "# temp variables for comparison\n",
    "previous_seq_id = 0\n",
    "previous_length = 0\n",
    "\n",
    "# we increment when seq_id != previous_seq_id\n",
    "\n",
    "# we increment when seq_id == previous_seq_id and:\n",
    "#     1. previous_length is NaN and length variable is bigger than mean value\n",
    "#     2. previous_length is NaN and length is NaN\n",
    "#     3. previous_length is more than mean \n",
    "#     4. previous_length is less than mean and length is NaN\n",
    "\n",
    "for seq_id, length in zip(file[\"SEQUENCE_ID\"], file[\"Length\"]):\n",
    "    if ((previous_seq_id != seq_id)\n",
    "    or ((previous_seq_id == seq_id) and (np.isnan(previous_length) and length > mean))\n",
    "    or ((previous_seq_id == seq_id) and (np.isnan(previous_length) and np.isnan(length)))\n",
    "    or ((previous_seq_id == seq_id) and (previous_length > mean))\n",
    "    or ((previous_seq_id == seq_id) and (np.isnan(previous_length) and length < mean))):\n",
    "    \n",
    "        STT_id += 1\n",
    "        STT.append(STT_id)\n",
    "        previous_seq_id = seq_id\n",
    "        previous_length = length\n",
    "\n",
    "    else:\n",
    "        STT.append(STT_id)\n",
    "        previous_seq_id = seq_id\n",
    "        previous_length = length"
   ]
  },
  {
   "cell_type": "code",
   "execution_count": 6,
   "id": "14d30824",
   "metadata": {},
   "outputs": [],
   "source": [
    "file.insert(9, 'STT_mean', STT)"
   ]
  },
  {
   "cell_type": "code",
   "execution_count": 7,
   "id": "5aa0e691",
   "metadata": {},
   "outputs": [],
   "source": [
    "# writing out the file to csv\n",
    "file.to_csv(\"10_Identifikácia_sedení_STT_MEAN.csv\", encoding=\"utf-8\",  escapechar=\";\", index=False)"
   ]
  }
 ],
 "metadata": {
  "kernelspec": {
   "display_name": "Python 3",
   "language": "python",
   "name": "python3"
  },
  "language_info": {
   "codemirror_mode": {
    "name": "ipython",
    "version": 3
   },
   "file_extension": ".py",
   "mimetype": "text/x-python",
   "name": "python",
   "nbconvert_exporter": "python",
   "pygments_lexer": "ipython3",
   "version": "3.8.8"
  }
 },
 "nbformat": 4,
 "nbformat_minor": 5
}
