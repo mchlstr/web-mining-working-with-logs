{
 "cells": [
  {
   "cell_type": "markdown",
   "id": "38a0efa7",
   "metadata": {},
   "source": [
    "#### Zadanie:\n",
    "\n",
    "Identifikujte sedenia na základe kvartilového odhadu časového okna (STT_Q). (= hornyQ + 1.5*Qrozpatie)\n",
    "\n",
    "\n",
    "Odovzdajte zdrojový kód programu + logovací súbor doplnený o identifikáciu používateľov (v jednom zip).\n",
    "\n",
    "Príkazy v Pythone vhodné pre riešenie tohto zadania:\n",
    "\n",
    "`import pandas as pd\n",
    "pd.read_csv() - načítanie log súboru\n",
    "quantile() - metóda na vypočítanie kvartilu (0.25 - dolný kvartil, 0.75 - horný kvartil)\n",
    "`"
   ]
  },
  {
   "cell_type": "code",
   "execution_count": 1,
   "id": "cf9f4657",
   "metadata": {},
   "outputs": [],
   "source": [
    "import pandas as pd\n",
    "import numpy as np"
   ]
  },
  {
   "cell_type": "code",
   "execution_count": 2,
   "id": "4387bd8a",
   "metadata": {},
   "outputs": [
    {
     "name": "stderr",
     "output_type": "stream",
     "text": [
      "C:\\ProgramData\\Anaconda3\\lib\\site-packages\\IPython\\core\\interactiveshell.py:3165: DtypeWarning: Columns (4) have mixed types.Specify dtype option on import or set low_memory=False.\n",
      "  has_raised = await self.run_ast_nodes(code_ast.body, cell_name,\n"
     ]
    }
   ],
   "source": [
    "# opening the file we will be working with and assigning it to the variabel file for latter use\n",
    "file = pd.read_csv(\"10_Identifikácia_sedení_STT_MEAN.csv\",  encoding=\"utf-8\",  escapechar=\";\", index_col=False)"
   ]
  },
  {
   "cell_type": "code",
   "execution_count": 3,
   "id": "f96a7925",
   "metadata": {},
   "outputs": [],
   "source": [
    "# calculating the STT_Q = hornyQ + 1.5*(HornyQ-DolnyQ)\n",
    "\n",
    "STT_Quart = file[\"Length\"].quantile(.75) + 1.5*(file[\"Length\"].quantile(.75) - file[\"Length\"].quantile(.25))"
   ]
  },
  {
   "cell_type": "code",
   "execution_count": 4,
   "id": "9768b671",
   "metadata": {},
   "outputs": [
    {
     "data": {
      "text/plain": [
       "12.5"
      ]
     },
     "execution_count": 4,
     "metadata": {},
     "output_type": "execute_result"
    }
   ],
   "source": [
    "STT_Quart"
   ]
  },
  {
   "cell_type": "code",
   "execution_count": 5,
   "id": "1f4b1c39",
   "metadata": {},
   "outputs": [],
   "source": [
    "# initializing the empty array for STT_Q id numbers\n",
    "# initializing the temp var STT_Q_id to store temp ID numbers of the STT_Q position index\n",
    "STT_Q = []\n",
    "STT_Q_id = 0\n",
    "\n",
    "# temp variables for comparison\n",
    "previous_seq_id = 0\n",
    "previous_length = 0\n",
    "# we increment when seq_id != previous_seq_id\n",
    "\n",
    "# we increment when seq_id == previous_seq_id and:\n",
    "#     1. previous_length is NaN and length variable is bigger than STT_Quart value\n",
    "#     2. previous_length is NaN and length is NaN\n",
    "#     3. previous_length is more than STT_Quart \n",
    "#     4. previous_length is less than STT_Quart and length is NaN\n",
    "\n",
    "for seq_id, length in zip(file[\"SEQUENCE_ID\"], file[\"Length\"]):\n",
    "    if ((previous_seq_id != seq_id)\n",
    "    or ((previous_seq_id == seq_id) and (np.isnan(previous_length) and length > STT_Quart))\n",
    "    or ((previous_seq_id == seq_id) and (np.isnan(previous_length) and np.isnan(length)))\n",
    "    or ((previous_seq_id == seq_id) and (previous_length > STT_Quart))\n",
    "    or ((previous_seq_id == seq_id) and (np.isnan(previous_length) and length < STT_Quart))):\n",
    "    \n",
    "        STT_Q_id += 1\n",
    "        STT_Q.append(STT_Q_id)\n",
    "        previous_seq_id = seq_id\n",
    "        previous_length = length\n",
    "\n",
    "    else:\n",
    "        STT_Q.append(STT_Q_id)\n",
    "        previous_seq_id = seq_id\n",
    "        previous_length = length"
   ]
  },
  {
   "cell_type": "code",
   "execution_count": 6,
   "id": "fb45d929",
   "metadata": {},
   "outputs": [],
   "source": [
    "file.insert(10, 'STT_Q', STT_Q)"
   ]
  },
  {
   "cell_type": "code",
   "execution_count": 7,
   "id": "5fe12923",
   "metadata": {},
   "outputs": [],
   "source": [
    "# save the file\n",
    "file.to_csv(\"11_Identifikácia_sedení_STT_Q.csv\", encoding=\"utf-8\",  escapechar=\";\", index=False)"
   ]
  }
 ],
 "metadata": {
  "kernelspec": {
   "display_name": "Python 3",
   "language": "python",
   "name": "python3"
  },
  "language_info": {
   "codemirror_mode": {
    "name": "ipython",
    "version": 3
   },
   "file_extension": ".py",
   "mimetype": "text/x-python",
   "name": "python",
   "nbconvert_exporter": "python",
   "pygments_lexer": "ipython3",
   "version": "3.8.8"
  }
 },
 "nbformat": 4,
 "nbformat_minor": 5
}
