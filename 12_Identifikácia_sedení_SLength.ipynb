{
 "cells": [
  {
   "cell_type": "markdown",
   "id": "7fef638b",
   "metadata": {},
   "source": [
    "#### Zadanie:\n",
    "Identifikujte sedenia na základe 10 minútového odhadu dĺžky času sedenia (SLength).\n",
    "\n",
    "Odovzdajte zdrojový kód programu + logovací súbor doplnený o identifikáciu používateľov (v jednom zip).\n",
    "\n",
    "Príkazy v Pythone vhodné pre riešenie tohto zadania:\n",
    "\n",
    "`import pandas as pd\n",
    "pd.read_csv() - načítanie log súboru`"
   ]
  },
  {
   "cell_type": "code",
   "execution_count": 1,
   "id": "a29eb816",
   "metadata": {},
   "outputs": [],
   "source": [
    "import pandas as pd\n",
    "import numpy as np"
   ]
  },
  {
   "cell_type": "code",
   "execution_count": 2,
   "id": "5d325cf8",
   "metadata": {},
   "outputs": [
    {
     "name": "stderr",
     "output_type": "stream",
     "text": [
      "C:\\ProgramData\\Anaconda3\\lib\\site-packages\\IPython\\core\\interactiveshell.py:3165: DtypeWarning: Columns (4) have mixed types.Specify dtype option on import or set low_memory=False.\n",
      "  has_raised = await self.run_ast_nodes(code_ast.body, cell_name,\n"
     ]
    }
   ],
   "source": [
    "# opening the file we will be working with and assigning it to the variabel file for latter use\n",
    "file = pd.read_csv(\"11_Identifikácia_sedení_STT_Q.csv\",  encoding=\"utf-8\",  escapechar=\";\", index_col=False)"
   ]
  },
  {
   "cell_type": "code",
   "execution_count": 3,
   "id": "3e762d7b",
   "metadata": {},
   "outputs": [],
   "source": [
    "# session estimate of 10 mins in seconds (10*60)\n",
    "session_estimate = 600"
   ]
  },
  {
   "cell_type": "code",
   "execution_count": 4,
   "id": "249b72b4",
   "metadata": {},
   "outputs": [],
   "source": [
    "# initializing the empty array for SLength id numbers\n",
    "# initializing the temp var SLength_id to store temp ID numbers of the SLenght position index\n",
    "SLength = []\n",
    "SLength_ID = 0\n",
    "\n",
    "# temp variables for comparison\n",
    "previous_seq_id = 0\n",
    "previous_length = 0\n",
    "cumulative_length = 0\n",
    "# we increment when seq_id != previous_seq_id\n",
    "\n",
    "# we increment when seq_id == previous_seq_id and:\n",
    "#     1. previous_length is NaN and length variable is bigger than session_estimate value\n",
    "#     2. previous_length is NaN and length is NaN\n",
    "#     3. previous_length is more than session_estimate \n",
    "#     4. previous_length is less than session_estimate and length is NaN\n",
    "#     5. cumulative length time is more than session_estimate\n",
    "\n",
    "for seq_id, length in zip(file[\"SEQUENCE_ID\"], file[\"Length\"]):\n",
    "    if ((previous_seq_id != seq_id)\n",
    "    or ((previous_seq_id == seq_id) and (np.isnan(previous_length) and length > session_estimate))\n",
    "    or ((previous_seq_id == seq_id) and (np.isnan(previous_length) and np.isnan(length)))\n",
    "    or ((previous_seq_id == seq_id) and (previous_length > session_estimate))\n",
    "    or ((previous_seq_id == seq_id) and (np.isnan(previous_length) and length < session_estimate))\n",
    "    or ((previous_seq_id == seq_id) and (cumulative_length > session_estimate))):\n",
    "    \n",
    "        SLength_ID += 1\n",
    "        SLength.append(SLength_ID)\n",
    "        previous_seq_id = seq_id\n",
    "        previous_length = length\n",
    "        cumulative_length = 0\n",
    "\n",
    "    else:\n",
    "        SLength.append(SLength_ID)\n",
    "        previous_seq_id = seq_id\n",
    "        previous_length = length\n",
    "        cumulative_length += length"
   ]
  },
  {
   "cell_type": "code",
   "execution_count": 5,
   "id": "cf8195a8",
   "metadata": {},
   "outputs": [],
   "source": [
    "# Inserting new column into the dataset\n",
    "file.insert(11, 'SLength', SLength)"
   ]
  },
  {
   "cell_type": "code",
   "execution_count": 6,
   "id": "d8b9e68e",
   "metadata": {},
   "outputs": [],
   "source": [
    "# writing the file to new csv, escape char \";\" to not get User-Agent divided on export/write\n",
    "file.to_csv(\"12_Identifikácia_sedení_SLength.csv\", encoding=\"utf-8\",  escapechar=\";\", index=False)"
   ]
  }
 ],
 "metadata": {
  "kernelspec": {
   "display_name": "Python 3",
   "language": "python",
   "name": "python3"
  },
  "language_info": {
   "codemirror_mode": {
    "name": "ipython",
    "version": 3
   },
   "file_extension": ".py",
   "mimetype": "text/x-python",
   "name": "python",
   "nbconvert_exporter": "python",
   "pygments_lexer": "ipython3",
   "version": "3.8.8"
  }
 },
 "nbformat": 4,
 "nbformat_minor": 5
}
