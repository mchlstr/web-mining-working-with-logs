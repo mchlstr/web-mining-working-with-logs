{
 "cells": [
  {
   "cell_type": "markdown",
   "id": "708e07ad",
   "metadata": {},
   "source": [
    "#### Zadanie:\n",
    "Vytvorte program na čistenie dát od nepotrebných dát:\n",
    "\n",
    "- upravte dátový súbor identifikovaním premenných (IP, Cookie, user, DTime, RequestMethod, URL, StatusCode, Referrer, Agent),\n",
    "\n",
    "- očistite dáta (RequestMethod/Version, StatusCode, URL).\n",
    "\n",
    "Odovzdajte zdrojový kód programu + očistený logovací súbor (v jednom zip).\n",
    "\n",
    "Príkazy v Pythone vhodné pre riešenie tohto zadania:\n",
    "\n",
    "import pandas as pd\n",
    "pd.read_csv() - načítanie log súboru"
   ]
  },
  {
   "cell_type": "code",
   "execution_count": 1,
   "id": "909f689e",
   "metadata": {},
   "outputs": [],
   "source": [
    "import json\n",
    "import re\n",
    "import pandas as pd\n",
    "\n",
    "# https://pypi.org/project/apachelogs/\n",
    "from apachelogs import LogParser\n",
    "from urllib.parse import urlparse"
   ]
  },
  {
   "cell_type": "code",
   "execution_count": 2,
   "id": "f39326af",
   "metadata": {},
   "outputs": [],
   "source": [
    "extensions_not_allowed = [\"css\",\"js\",\"flv\",\"ico\",\"swf\",\"rss\",\"xml\",\"cur\",\n",
    "                          \"json\",\"svg\",\"ttf\",\"otf\",\"woff\",\"woff2\",\"eot\",\n",
    "                          \"jpg\",\"bmp\",\"jpg\",\"jpeg\",\"png\",\"gif\", \"rss\",]\n",
    "\n",
    "http_methods_not_allowed = [\"POST\", \"PUT\", \"HEAD\", \"DELETE\", \"PATCH\", \"OPTIONS\"]\n",
    "\n",
    "# 1xx, 4xx, 5xx\n",
    "http_status_code_not_allowed = (\"1\", \"4\", \"5\")"
   ]
  },
  {
   "cell_type": "code",
   "execution_count": 3,
   "id": "d9ee17e9",
   "metadata": {},
   "outputs": [],
   "source": [
    "# feed LogParser with correct values from Apache log file\n",
    "parser = LogParser(\"%h %l %u %t \\\"%r\\\" %>s %b \\\"%{Referer}i\\\" \\\"%{User-Agent}i\\\"\")"
   ]
  },
  {
   "cell_type": "code",
   "execution_count": 4,
   "id": "b205dbf7",
   "metadata": {},
   "outputs": [],
   "source": [
    "# open log file\n",
    "with open(\"access2.log\",  encoding='utf-8') as fp:\n",
    "    processed = 0\n",
    "    ref = ''\n",
    "    agent = ''\n",
    "    \n",
    "    # preparing the empty arrays which will hold temp data for the pandas data work latter\n",
    "    remote_host = []\n",
    "    remote_logname = []\n",
    "    remote_user = []\n",
    "    request_time = []\n",
    "    request_line_method = []\n",
    "    request_line_uri = []\n",
    "    request_line_protocol = []\n",
    "    final_status = []\n",
    "    bytes_sent = []\n",
    "    referer = []\n",
    "    user_agent = []\n",
    "    \n",
    "    quotation_marks_removed= []\n",
    "    cleared = ''\n",
    "\n",
    "\n",
    "    for entry in parser.parse_lines(fp):\n",
    "        processed += 1\n",
    "        line = entry.entry\n",
    "        http_status_code = str(entry.final_status)\n",
    "        try:\n",
    "            method, uri, blob = entry.request_line.split()\n",
    "        except ValueError:\n",
    "            print(processed, entry.request_line)\n",
    "            continue\n",
    "\n",
    "        # here I checked method\n",
    "        if method.upper() in http_methods_not_allowed:\n",
    "            continue\n",
    "\n",
    "        # here I checked http status code\n",
    "        if http_status_code.startswith(http_status_code_not_allowed):\n",
    "            continue\n",
    "            \n",
    "        # here I checked file extensions\n",
    "        filename = urlparse(uri).path.split(\"/\")[-1:][0]\n",
    "        file_extension = filename.split(\".\")[-1:][0].lower()\n",
    "        if file_extension in extensions_not_allowed:\n",
    "            continue\n",
    "\n",
    "        # populating cleaned data to arrays\n",
    "        remote_host.append(entry.remote_host)\n",
    "        remote_logname.append(entry.remote_logname)\n",
    "        remote_user.append(entry.remote_user)\n",
    "        request_time.append(entry.request_time)\n",
    "        request_line_method.append(method)\n",
    "        request_line_uri.append(uri)\n",
    "        request_line_protocol.append(blob)\n",
    "        final_status.append(entry.final_status)\n",
    "        bytes_sent.append(entry.bytes_sent)\n",
    "\n",
    "        referer.append(entry.headers_in[\"Referer\"])\n",
    "        user_agent.append(entry.headers_in[\"User-Agent\"])\n",
    "      \n",
    "        "
   ]
  },
  {
   "cell_type": "code",
   "execution_count": 5,
   "id": "27a6b24c",
   "metadata": {},
   "outputs": [],
   "source": [
    "# creating the dictionary \n",
    "preprocessed_log_data_table = {\n",
    "    \"Remote Host\": remote_host,\n",
    "    \"Remote Logname\": remote_logname,\n",
    "    \"Remote User\": remote_user,\n",
    "    \"Request Time\": request_time,\n",
    "    \"Request Method\": request_line_method,\n",
    "    \"Request Uri\": request_line_uri,\n",
    "    \"Request Protocol\": request_line_protocol,\n",
    "    \"Final Status Code\": final_status,\n",
    "    \"Bytes Sent\": bytes_sent,\n",
    "    \"Referer\": referer,\n",
    "    \"User-Agent\": user_agent,\n",
    "    \n",
    "}\n",
    "# transforming the cleaned data to the pandas dataframe\n",
    "log_data_table=pd.DataFrame(preprocessed_log_data_table)"
   ]
  },
  {
   "cell_type": "code",
   "execution_count": 6,
   "id": "84c50f25",
   "metadata": {},
   "outputs": [],
   "source": [
    "log_data_table.to_csv(r'1_Čistenie_dát_I.csv',index=False,escapechar=\";\")"
   ]
  }
 ],
 "metadata": {
  "kernelspec": {
   "display_name": "Python 3",
   "language": "python",
   "name": "python3"
  },
  "language_info": {
   "codemirror_mode": {
    "name": "ipython",
    "version": 3
   },
   "file_extension": ".py",
   "mimetype": "text/x-python",
   "name": "python",
   "nbconvert_exporter": "python",
   "pygments_lexer": "ipython3",
   "version": "3.8.8"
  }
 },
 "nbformat": 4,
 "nbformat_minor": 5
}
