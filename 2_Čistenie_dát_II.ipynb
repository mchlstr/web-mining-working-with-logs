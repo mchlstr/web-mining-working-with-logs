{
 "cells": [
  {
   "cell_type": "markdown",
   "id": "8d2bb68e",
   "metadata": {},
   "source": [
    "#### Zadanie:\n",
    "Preskúmajte logovací súbor po očistení od nepotrebných dát a zvážte odstránenie ďalších záznamov.\n",
    "Odovzdajte zdrojový kód programu + očistený logovací súbor (v jednom zip).\n",
    "Príkazy v Pythone vhodné pre riešenie tohto zadania:\n",
    "\n",
    "`import pandas as pd\n",
    "pd.read_csv() - načítanie log súboru`"
   ]
  },
  {
   "cell_type": "code",
   "execution_count": 1,
   "id": "b5b84c06",
   "metadata": {},
   "outputs": [],
   "source": [
    "import pandas as pd"
   ]
  },
  {
   "cell_type": "code",
   "execution_count": 2,
   "id": "0701f205",
   "metadata": {},
   "outputs": [],
   "source": [
    "# opening the file we will be working with and assigning it to the variabel file for latter use\n",
    "log_data_table = pd.read_csv(\"1_Čistenie_dát_I.csv\",  encoding=\"utf-8\",  escapechar=\";\", index_col=False)"
   ]
  },
  {
   "cell_type": "code",
   "execution_count": 11,
   "id": "9cbf4b4b",
   "metadata": {},
   "outputs": [
    {
     "data": {
      "text/plain": [
       "/apache-log/access.log                                                                                                                                                                         65899\n",
       "/                                                                                                                                                                                              16840\n",
       "/administrator/index.php                                                                                                                                                                       16337\n",
       "/index.php?option=com_contact&view=contact&id=1                                                                                                                                                11256\n",
       "/robots.txt                                                                                                                                                                                     3784\n",
       "                                                                                                                                                                                               ...  \n",
       "/index.php?option=com_content&ampview=article&ampid=46+-6863+union+all+select+1,1,CONCAT(0x3a6f79753a,0x4244764877697569706b,0x3a70687a3a)1,1,1,1,1,1%23&ampItemid=54                              1\n",
       "/administrator/templates/system/?query=query%27%29+AND+5808%3DDBMS_PIPE.RECEIVE_MESSAGE%28CHR%2880%29%7C%7CCHR%2866%29%7C%7CCHR%2874%29%7C%7CCHR%2899%29%2C5%29+AND+%28%27taIp%27%3D%27taIp        1\n",
       "/images/stories/raith/?N=(D                                                                                                                                                                        1\n",
       "/administrator/templates/system?query=query%27+UNION+ALL+SELECT+NULL%2CNULL%2CNULL%2CNULL%2CNULL%2CNULL%2CNULL%2CNULL%2CNULL%2CNULL--+-                                                            1\n",
       "/administrator/templates/system/css/?query=%2FWEB-INF%2Fweb.xml                                                                                                                                    1\n",
       "Name: Request Uri, Length: 2354, dtype: int64"
      ]
     },
     "execution_count": 11,
     "metadata": {},
     "output_type": "execute_result"
    }
   ],
   "source": [
    "# using value counts give us order of the top of the uri which were get from server\n",
    "# number 1 is navbav = List of Links. A navigation bar needs standard HTML as a base. \n",
    "\n",
    "# we can safely delete and not loose any value from the analysis\n",
    "log_data_table[\"Request Uri\"].value_counts()"
   ]
  },
  {
   "cell_type": "code",
   "execution_count": 12,
   "id": "4fc86fb2",
   "metadata": {},
   "outputs": [],
   "source": [
    "# drop access to pages which are too frequent and has no informative value\n",
    "log_data_table = log_data_table.drop(log_data_table[(log_data_table['Request Uri'] == \"/apache-log/access.log\")].index)"
   ]
  },
  {
   "cell_type": "code",
   "execution_count": 15,
   "id": "99f75f51",
   "metadata": {
    "scrolled": true
   },
   "outputs": [
    {
     "data": {
      "text/plain": [
       "/                                                                                                                                                                                                                                                                                                                 16840\n",
       "/administrator/index.php                                                                                                                                                                                                                                                                                          16337\n",
       "/index.php?option=com_contact&view=contact&id=1                                                                                                                                                                                                                                                                   11256\n",
       "/robots.txt                                                                                                                                                                                                                                                                                                        3784\n",
       "/apache-log/                                                                                                                                                                                                                                                                                                        950\n",
       "                                                                                                                                                                                                                                                                                                                  ...  \n",
       "/administrator/templates/system/css/?query=ZAP%25n%25s%25n%25s%25n%25s%25n%25s%25n%25s%25n%25s%25n%25s%25n%25s%25n%25s%25n%25s%25n%25s%25n%25s%25n%25s%25n%25s%25n%25s%25n%25s%25n%25s%25n%25s%25n%25s%25n%25s%0A                                                                                                     1\n",
       "/index.php?Itemid=%2F&id=1&option=com_phocagallery&view=category                                                                                                                                                                                                                                                      1\n",
       "/administrator/templates/system/?query=query%29%3BSELECT+DBMS_PIPE.RECEIVE_MESSAGE%28CHR%2883%29%7C%7CCHR%28113%29%7C%7CCHR%28112%29%7C%7CCHR%2878%29%2C5%29+FROM+DUAL--                                                                                                                                              1\n",
       "/administrator/templates/system?query=query%3Bcat+%2Fetc%2Fpasswd%3B                                                                                                                                                                                                                                                  1\n",
       "/administrator/templates/system?query=query%29+WAITFOR+DELAY+CHAR%2848%29%2BCHAR%2858%29%2BCHAR%2848%29%2BCHAR%2858%29%2BCHAR%2891%29%2BCHAR%2883%29%2BCHAR%2876%29%2BCHAR%2869%29%2BCHAR%2869%29%2BCHAR%2880%29%2BCHAR%2884%29%2BCHAR%2873%29%2BCHAR%2877%29%2BCHAR%2869%29%2BCHAR%2893%29+AND+%287593%3D7593        1\n",
       "Name: Request Uri, Length: 2353, dtype: int64"
      ]
     },
     "execution_count": 15,
     "metadata": {},
     "output_type": "execute_result"
    }
   ],
   "source": [
    "# after dropping the lines we double check the data left\n",
    "# as we can see the top one now is the root, which makes perfect sense\n",
    "log_data_table[\"Request Uri\"].value_counts()"
   ]
  },
  {
   "cell_type": "code",
   "execution_count": 16,
   "id": "48f47d56",
   "metadata": {},
   "outputs": [],
   "source": [
    "log_data_table.to_csv(r'2_Čistenie_dát_II.csv',index=False,escapechar=\";\")"
   ]
  }
 ],
 "metadata": {
  "kernelspec": {
   "display_name": "Python 3",
   "language": "python",
   "name": "python3"
  },
  "language_info": {
   "codemirror_mode": {
    "name": "ipython",
    "version": 3
   },
   "file_extension": ".py",
   "mimetype": "text/x-python",
   "name": "python",
   "nbconvert_exporter": "python",
   "pygments_lexer": "ipython3",
   "version": "3.8.8"
  }
 },
 "nbformat": 4,
 "nbformat_minor": 5
}
