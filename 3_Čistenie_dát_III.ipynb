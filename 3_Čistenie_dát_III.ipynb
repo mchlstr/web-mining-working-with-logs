{
 "cells": [
  {
   "cell_type": "markdown",
   "id": "6bdd01c3",
   "metadata": {},
   "source": [
    "#### Zadanie:\n",
    "Čistenie dát od robotov vyhľadávacích služieb:\n",
    "\n",
    "- identifikujte robotov na základe prístupu k súboru robots.txt (URL) - získate IP adresy robotov.\n",
    "\n",
    "\n",
    "Odovzdajte zdrojový kód programu na indentifikáciu IP adries (v jednom zip).\n",
    "\n",
    "Príkazy v Pythone vhodné pre riešenie tohto zadania:\n",
    "`import pandas as pd\n",
    "pd.read_csv() - načítanie log súboru\n",
    "`"
   ]
  },
  {
   "cell_type": "code",
   "execution_count": 1,
   "id": "4c4634e0",
   "metadata": {},
   "outputs": [],
   "source": [
    "import pandas as pd"
   ]
  },
  {
   "cell_type": "code",
   "execution_count": 2,
   "id": "1de4a638",
   "metadata": {},
   "outputs": [],
   "source": [
    "# opening the file we will be working with and assigning it to the variabel file for latter use\n",
    "log_data_table = pd.read_csv(\"2_Čistenie_dát_II.csv\",  encoding=\"utf-8\",  escapechar=\";\", index_col=False)"
   ]
  },
  {
   "cell_type": "code",
   "execution_count": 3,
   "id": "688c0b11",
   "metadata": {},
   "outputs": [],
   "source": [
    "# here I checked if it is a bot, checking access to \"robots.txt\"\n",
    "# will store the IP adresses of the \"bots\" which accessed this file.\n",
    "list_of_bots = []\n",
    "\n",
    "for ip, uri in zip(log_data_table[\"Remote Host\"],log_data_table['Request Uri']):\n",
    "    if uri == '/robots.txt':\n",
    "        list_of_bots.append(ip)\n",
    "\n",
    "list_of_bots = list(set(list_of_bots))\n"
   ]
  },
  {
   "cell_type": "code",
   "execution_count": 4,
   "id": "cc063767",
   "metadata": {},
   "outputs": [
    {
     "data": {
      "text/plain": [
       "1171"
      ]
     },
     "execution_count": 4,
     "metadata": {},
     "output_type": "execute_result"
    }
   ],
   "source": [
    "len(list_of_bots)"
   ]
  },
  {
   "cell_type": "code",
   "execution_count": 5,
   "id": "e5226a09",
   "metadata": {},
   "outputs": [],
   "source": [
    "table = {\"Remote Host\": list_of_bots}"
   ]
  },
  {
   "cell_type": "code",
   "execution_count": 6,
   "id": "5e2e013a",
   "metadata": {},
   "outputs": [],
   "source": [
    "list_of_bots_IP = pd.DataFrame(table)"
   ]
  },
  {
   "cell_type": "code",
   "execution_count": 7,
   "id": "b4a4a5f0",
   "metadata": {},
   "outputs": [],
   "source": [
    "list_of_bots_IP.to_csv(r'3_Čistenie_dát_III.csv',index=False,escapechar=\";\", header = 'IP')"
   ]
  }
 ],
 "metadata": {
  "kernelspec": {
   "display_name": "Python 3",
   "language": "python",
   "name": "python3"
  },
  "language_info": {
   "codemirror_mode": {
    "name": "ipython",
    "version": 3
   },
   "file_extension": ".py",
   "mimetype": "text/x-python",
   "name": "python",
   "nbconvert_exporter": "python",
   "pygments_lexer": "ipython3",
   "version": "3.8.8"
  }
 },
 "nbformat": 4,
 "nbformat_minor": 5
}
