{
 "cells": [
  {
   "cell_type": "markdown",
   "id": "3a6f5a68",
   "metadata": {},
   "source": [
    "#### Zadanie:\n",
    "\n",
    "Usporiadajte najprv záznamy podľa IP, User-Agent a Unixtime.\n",
    "\n",
    "Identifikujte používateľov na základe IP adresy a poľa User-Agent. Vytvorte novú premennú s ID používateľa.\n",
    "\n",
    "\n",
    "Odovzdajte zdrojový kód programu + logovací súbor doplnený o identifikáciu používateľov (v jednom zip).\n",
    "\n",
    "Príkazy v Pythone vhodné pre riešenie tohto zadania:\n",
    "\n",
    "`\n",
    "import pandas as pd\n",
    "pd.read_csv() - načítanie log súboru\n",
    "sort_values() - usporiadanie\n",
    "`"
   ]
  },
  {
   "cell_type": "code",
   "execution_count": 1,
   "id": "337d1bbf",
   "metadata": {},
   "outputs": [],
   "source": [
    "import pandas as pd"
   ]
  },
  {
   "cell_type": "code",
   "execution_count": 2,
   "id": "31ed4dea",
   "metadata": {},
   "outputs": [],
   "source": [
    "#opening the file we prepared last time with having the Unixtime\n",
    "\n",
    "file = pd.read_csv(\"5_UNIXTIME.csv\", encoding=\"utf-8\",  escapechar=\";\", index_col=False)"
   ]
  },
  {
   "cell_type": "code",
   "execution_count": 3,
   "id": "1d031f93",
   "metadata": {},
   "outputs": [],
   "source": [
    "#must be sorted by \"Remote Host\", \"UNIXTIME\", \"User-Agent\" either in ascending or descending order\n",
    "file.sort_values(by=['Remote Host', 'User-Agent', 'UNIXTIME'],ascending=[True, True, True], inplace=True)"
   ]
  },
  {
   "cell_type": "code",
   "execution_count": 4,
   "id": "bd95f52f",
   "metadata": {},
   "outputs": [],
   "source": [
    "# creating new array where the User ID aka identified session will be stored\n",
    "user_id = []\n",
    "\n",
    "#creating empty string variables which will be compared with the data from existing dataframe\n",
    "IP_address = \"0.0.0.0\"\n",
    "agent = \"Null\"\n",
    "id=0\n",
    "\n",
    "#with zip we create an iterable touple form the dataframe using 2 columns of interest\n",
    "# which is \"Remote Host\" and \"User-Agent\"\n",
    "for ip,user in zip(file[\"Remote Host\"],file[\"User-Agent\"]):\n",
    "    \n",
    "    #condition: only and only if the \"Remote Host\" and \"User-Agent\" is the same\n",
    "    # as in last iteration, we can say that it is same session. Otherwise it is different one\n",
    "    # because different users can go from the same IP, as well as from user agent\n",
    "    # we omitt posibilities that 2 users from same IP and same user agent are executring uninterrupted session\n",
    "    if (ip == IP_address) and (user == agent):\n",
    "        user_id.append(id)\n",
    "    else:\n",
    "        id +=1\n",
    "        user_id.append(id)\n",
    "    IP_address = ip\n",
    "    agent = user"
   ]
  },
  {
   "cell_type": "code",
   "execution_count": 5,
   "id": "f0eef452",
   "metadata": {},
   "outputs": [],
   "source": [
    "#inserting the user_id array we created into the existing dataframe on the fist position\n",
    "\n",
    "file.insert(0, 'USER_ID', user_id)"
   ]
  },
  {
   "cell_type": "code",
   "execution_count": 6,
   "id": "520bb389",
   "metadata": {},
   "outputs": [],
   "source": [
    "# writing outputs to the new csv\n",
    "\n",
    "file.to_csv(\"6_Identifikácia_používateľov_USER_ID.csv\", encoding=\"utf-8\",  escapechar=\";\", index=False)\n"
   ]
  }
 ],
 "metadata": {
  "kernelspec": {
   "display_name": "Python 3",
   "language": "python",
   "name": "python3"
  },
  "language_info": {
   "codemirror_mode": {
    "name": "ipython",
    "version": 3
   },
   "file_extension": ".py",
   "mimetype": "text/x-python",
   "name": "python",
   "nbconvert_exporter": "python",
   "pygments_lexer": "ipython3",
   "version": "3.8.8"
  }
 },
 "nbformat": 4,
 "nbformat_minor": 5
}
