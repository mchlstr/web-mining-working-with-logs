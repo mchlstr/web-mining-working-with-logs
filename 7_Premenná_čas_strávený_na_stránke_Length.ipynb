{
 "cells": [
  {
   "cell_type": "markdown",
   "id": "718b08e2",
   "metadata": {},
   "source": [
    "#### Zadanie:\n",
    "Vytvorte premennú Length na základe User_ID a 60 min. SequenceID.\n",
    "\n",
    "\n",
    "Odovzdajte zdrojový kód programu + logovací súbor doplnený o identifikáciu používateľov (v jednom zip).\n",
    "\n",
    "Príkazy v Pythone vhodné pre riešenie tohto zadania:\n",
    "\n",
    "`\n",
    "import pandas as pd\n",
    "pd.read_csv() - načítanie log súboru\n",
    "`"
   ]
  },
  {
   "cell_type": "code",
   "execution_count": 1,
   "id": "3868328d",
   "metadata": {},
   "outputs": [],
   "source": [
    "import pandas as pd"
   ]
  },
  {
   "cell_type": "code",
   "execution_count": 2,
   "id": "bdceb97f",
   "metadata": {},
   "outputs": [],
   "source": [
    "# open the csv file where we have pripared data from which are separated by USER ID\n",
    "\n",
    "file = pd.read_csv(\"6_Identifikácia_používateľov_USER_ID.csv\", encoding=\"utf-8\",  escapechar=\";\", index_col=False)"
   ]
  },
  {
   "cell_type": "code",
   "execution_count": 3,
   "id": "4718ec65",
   "metadata": {},
   "outputs": [],
   "source": [
    "# prepare 2 empty arrays where we will be storing the new data columns \"Sequence ID\" and \"Length\"\n",
    "\n",
    "sequence_id = []\n",
    "lengths = []\n",
    "\n",
    "# prepare temp variables which we need in the for loop to compare current and previous values\n",
    "# starting value of all of them is assigned to 0 to make sense in the loop bcs\n",
    "# user_id value starts with 1\n",
    "# unixtime starts with some value and the difference between first value of unixtime and our temp variable needs to be \n",
    "# bigger than 3600\n",
    "\n",
    "# seq_id is the Sequence ID which will be assigned to session\n",
    "# length is the temp variable where we will store the difference in current and previous unixtime\n",
    "# if the differnce is less than 3600 between them\n",
    "# otherwise we will write value for None in list lengths\n",
    "previous_user_id = 0\n",
    "previous_unixtime = 0\n",
    "seq_id = 0\n",
    "length = 0\n",
    "counter = 0\n",
    "\n",
    "for user_id, unixtime in zip(file[\"USER_ID\"],file[\"UNIXTIME\"]):\n",
    "    if (user_id == previous_user_id) and ((unixtime - previous_unixtime) <= 3600):\n",
    "        length = unixtime - previous_unixtime\n",
    "        sequence_id.append(seq_id)\n",
    "        lengths.insert((counter-1), length)\n",
    "        previous_unixtime = unixtime\n",
    "        previous_user_id = user_id\n",
    "        counter += 1\n",
    "    else: \n",
    "        seq_id += 1\n",
    "        sequence_id.append(seq_id)\n",
    "        previous_unixtime = unixtime\n",
    "        previous_user_id = user_id\n",
    "        lengths.insert((counter-1), None)\n",
    "        counter += 1"
   ]
  },
  {
   "cell_type": "code",
   "execution_count": 4,
   "id": "8046cba5",
   "metadata": {},
   "outputs": [],
   "source": [
    "# inserting the columns on locations where we want them\n",
    "# SEQUENCE_ID will become second behing the USER_ID and Length will go after UNIXTIME\n",
    "\n",
    "file.insert(1, 'SEQUENCE_ID', sequence_id)\n",
    "file.insert(7, 'Length', lengths)"
   ]
  },
  {
   "cell_type": "code",
   "execution_count": 5,
   "id": "bab444dd",
   "metadata": {},
   "outputs": [],
   "source": [
    "# writing the output to the file\n",
    "file.to_csv(\"7_Premenná_čas_strávený_na_stránke_Length.csv\", encoding=\"utf-8\",  escapechar=\";\", index=False)"
   ]
  }
 ],
 "metadata": {
  "kernelspec": {
   "display_name": "Python 3",
   "language": "python",
   "name": "python3"
  },
  "language_info": {
   "codemirror_mode": {
    "name": "ipython",
    "version": 3
   },
   "file_extension": ".py",
   "mimetype": "text/x-python",
   "name": "python",
   "nbconvert_exporter": "python",
   "pygments_lexer": "ipython3",
   "version": "3.8.8"
  }
 },
 "nbformat": 4,
 "nbformat_minor": 5
}
