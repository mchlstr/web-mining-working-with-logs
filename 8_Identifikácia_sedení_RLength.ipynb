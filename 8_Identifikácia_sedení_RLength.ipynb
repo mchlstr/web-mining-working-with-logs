{
 "cells": [
  {
   "cell_type": "markdown",
   "id": "a816f04c",
   "metadata": {},
   "source": [
    "#### Zadanie:\n",
    "Identifikujte sedenia na základe heuristiky RLength (podiel navigačných stránok 40%).\n",
    "\n",
    "\n",
    "Odovzdajte zdrojový kód programu + logovací súbor doplnený o identifikáciu používateľov (v jednom zip).\n",
    "\n",
    "Príkazy v Pythone vhodné pre riešenie tohto zadania:\n",
    "\n",
    "`import pandas as pd\n",
    "import numpy as np\n",
    "pd.read_csv() - načítanie log súboru\n",
    "np.log - funkcia na výpočet prirodzeného logaritmu (ln)`"
   ]
  },
  {
   "cell_type": "code",
   "execution_count": 1,
   "id": "a4565202",
   "metadata": {},
   "outputs": [],
   "source": [
    "import pandas as pd\n",
    "import numpy as np"
   ]
  },
  {
   "cell_type": "code",
   "execution_count": 2,
   "id": "2da293a9",
   "metadata": {},
   "outputs": [],
   "source": [
    "# opening the file we will be working with and assigning it to the variabel file for latter use\n",
    "file = pd.read_csv(\"7_Premenná_čas_strávený_na_stránke_Length.csv\",  encoding=\"utf-8\",  escapechar=\";\", index_col=False)"
   ]
  },
  {
   "cell_type": "code",
   "execution_count": 3,
   "id": "6716e381",
   "metadata": {},
   "outputs": [],
   "source": [
    "# calculating the mean of the time spent on the webpages from the pages where value is different than None\n",
    "# tried and it gives here the same result as np.nanmean, despite it sais that np.nanmean ignores the NaN, while mean keep them\n",
    "mean = np.mean(file[\"Length\"])"
   ]
  },
  {
   "cell_type": "code",
   "execution_count": 4,
   "id": "c10d68ee",
   "metadata": {},
   "outputs": [
    {
     "data": {
      "text/plain": [
       "69.07541690865345"
      ]
     },
     "execution_count": 4,
     "metadata": {},
     "output_type": "execute_result"
    }
   ],
   "source": [
    "mean"
   ]
  },
  {
   "cell_type": "code",
   "execution_count": 5,
   "id": "5b3a3c68",
   "metadata": {},
   "outputs": [],
   "source": [
    "# C = -ln(1-p) / lambda\n",
    "# p = podiel navigačných stránok 40%\n",
    "p = 0.4\n",
    "C = (-(np.log(1-p)))/(1/mean)"
   ]
  },
  {
   "cell_type": "code",
   "execution_count": 6,
   "id": "e1b90ea6",
   "metadata": {},
   "outputs": [
    {
     "data": {
      "text/plain": [
       "35.28549292925876"
      ]
     },
     "execution_count": 6,
     "metadata": {},
     "output_type": "execute_result"
    }
   ],
   "source": [
    "# value for the border point (hranicny bod)\n",
    "C"
   ]
  },
  {
   "cell_type": "code",
   "execution_count": 7,
   "id": "326060bc",
   "metadata": {},
   "outputs": [],
   "source": [
    "# initializing the empty array for RLenght id numbers\n",
    "# initializing the temp var RL_id to store temp ID numbers of the RLenght position index\n",
    "RLength = []\n",
    "RL_id = 0\n",
    "\n",
    "# temp variables for comparison\n",
    "previous_seq_id = 0\n",
    "previous_length = 0\n",
    "# we increment when seq_id != previous_seq_id\n",
    "\n",
    "# we increment when seq_id == previous_seq_id and:\n",
    "#     1. previous_length is NaN and length variable is bigger than C value\n",
    "#     2. previous_length is NaN and length is NaN\n",
    "#     3. previous_length is more than C \n",
    "#     4. previous_length is less than C and length is NaN\n",
    "\n",
    "for seq_id, length in zip(file[\"SEQUENCE_ID\"], file[\"Length\"]):\n",
    "    if ((previous_seq_id != seq_id) \n",
    "        or ((previous_seq_id == seq_id) and (np.isnan(previous_length) and length > C))\n",
    "        or ((previous_seq_id == seq_id) and (np.isnan(previous_length) and np.isnan(length)))\n",
    "        or ((previous_seq_id == seq_id) and (previous_length > C))\n",
    "        or ((previous_seq_id == seq_id) and (np.isnan(previous_length) and length < C))):     \n",
    "        \n",
    "        RL_id += 1\n",
    "        RLength.append(RL_id)\n",
    "        previous_seq_id = seq_id\n",
    "        previous_length = length\n",
    "\n",
    "    else:\n",
    "        RLength.append(RL_id)\n",
    "        previous_seq_id = seq_id\n",
    "        previous_length = length"
   ]
  },
  {
   "cell_type": "code",
   "execution_count": 8,
   "id": "f03ed86e",
   "metadata": {},
   "outputs": [],
   "source": [
    "file.insert(8, 'RLength', RLength)"
   ]
  },
  {
   "cell_type": "code",
   "execution_count": 9,
   "id": "63e25b3d",
   "metadata": {},
   "outputs": [],
   "source": [
    "# write to file\n",
    "file.to_csv(\"8_Identifikácia_sedení_RLength.csv\", encoding=\"utf-8\",  escapechar=\";\", index=False)"
   ]
  }
 ],
 "metadata": {
  "kernelspec": {
   "display_name": "Python 3",
   "language": "python",
   "name": "python3"
  },
  "language_info": {
   "codemirror_mode": {
    "name": "ipython",
    "version": 3
   },
   "file_extension": ".py",
   "mimetype": "text/x-python",
   "name": "python",
   "nbconvert_exporter": "python",
   "pygments_lexer": "ipython3",
   "version": "3.8.8"
  }
 },
 "nbformat": 4,
 "nbformat_minor": 5
}
